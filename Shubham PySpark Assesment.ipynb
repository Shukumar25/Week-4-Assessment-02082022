{
 "cells": [
  {
   "cell_type": "markdown",
   "id": "ab02d290",
   "metadata": {},
   "source": [
    "# 1"
   ]
  },
  {
   "cell_type": "code",
   "execution_count": null,
   "id": "4679e0e2",
   "metadata": {},
   "outputs": [],
   "source": [
    " twtagent.sources = Twitter\n",
    "   twtagent.channels = memchannel\n",
    "   twtagent.sinks = HDFS\n",
    "   twtagent.sinks.HDFS.channel = memchannel\n",
    "   twtagent.sinks.HDFS.type = hdfs\n",
    "   twtagent.sinks.HDFS.hdfs.path = hdfs://localhost:9000/shubham/Desktop/twitter_Extract"
   ]
  },
  {
   "cell_type": "markdown",
   "id": "07ccff80",
   "metadata": {},
   "source": [
    "# 3"
   ]
  },
  {
   "cell_type": "code",
   "execution_count": null,
   "id": "5406dc2e",
   "metadata": {},
   "outputs": [],
   "source": [
    "sc"
   ]
  },
  {
   "cell_type": "code",
   "execution_count": null,
   "id": "0253351c",
   "metadata": {},
   "outputs": [],
   "source": [
    "airlinesPath=\"hdfs://localhost:9000/spark/rdd/airlines.csv\""
   ]
  },
  {
   "cell_type": "code",
   "execution_count": null,
   "id": "00ebf141",
   "metadata": {},
   "outputs": [],
   "source": [
    "airlinesPath"
   ]
  },
  {
   "cell_type": "code",
   "execution_count": null,
   "id": "27cad5cb",
   "metadata": {},
   "outputs": [],
   "source": [
    "airlines=sc.textFile(airlinesPath)"
   ]
  },
  {
   "cell_type": "code",
   "execution_count": null,
   "id": "e36660f1",
   "metadata": {},
   "outputs": [],
   "source": [
    " airlines.take(10)  "
   ]
  },
  {
   "cell_type": "code",
   "execution_count": null,
   "id": "36a84694",
   "metadata": {},
   "outputs": [],
   "source": [
    "airlines.first()"
   ]
  },
  {
   "cell_type": "code",
   "execution_count": null,
   "id": "3af463a2",
   "metadata": {},
   "outputs": [],
   "source": [
    "airlines.collect()"
   ]
  },
  {
   "cell_type": "code",
   "execution_count": null,
   "id": "da257938",
   "metadata": {},
   "outputs": [],
   "source": [
    "airlines.count()"
   ]
  },
  {
   "cell_type": "markdown",
   "id": "549a1691",
   "metadata": {},
   "source": [
    "# 4"
   ]
  },
  {
   "cell_type": "code",
   "execution_count": null,
   "id": "56491207",
   "metadata": {},
   "outputs": [],
   "source": [
    "sc"
   ]
  },
  {
   "cell_type": "code",
   "execution_count": null,
   "id": "01e004ab",
   "metadata": {},
   "outputs": [],
   "source": [
    "twitterPath=\"hdfs://localhost:9000/spark/cache-0.json\""
   ]
  },
  {
   "cell_type": "code",
   "execution_count": null,
   "id": "31fb7406",
   "metadata": {},
   "outputs": [],
   "source": [
    "import json\n",
    "       twitterData=sc.textFile(twitterPath).map(lambda x:json.loads(x))"
   ]
  },
  {
   "cell_type": "code",
   "execution_count": null,
   "id": "03281e56",
   "metadata": {},
   "outputs": [],
   "source": [
    "twitterData.\\\n",
    "          filter(lambda x:x['user']['screen_name']==\"realDonaldTrump\").\\\n",
    "          map(lambda x:x['text'])\\\n",
    "          .take(10)"
   ]
  },
  {
   "cell_type": "markdown",
   "id": "c289af19",
   "metadata": {},
   "source": [
    "# 5"
   ]
  },
  {
   "cell_type": "code",
   "execution_count": null,
   "id": "fc6f5373",
   "metadata": {},
   "outputs": [],
   "source": [
    "from pyspark import SparkContext\n",
    "   from pyspark.streaming import StreamingContext\n",
    "\n",
    "   sc = SparkContext(\"local[2]\",\"StreamingErrorCount\")\n",
    "   ssc = StreamingContext(sc,10)\n",
    "\n",
    "   ssc.checkpoint(\"hdfs///home/shubham/Desktop/finderror\")\n",
    "   ds1 = ssc.socketTextStream(\"localhost\", 9999)\n",
    "   count = ds1.flatMap(lambda x:x.split(\" \")).filter(lambda word:\"Error\" in word).map(lambda word:(word,1)).reduceByKey(lambda x,y:x+y)\n",
    "\n",
    "   count.pprint()\n",
    "   ssc.start()\n",
    "   ssc.awaitTermination()"
   ]
  },
  {
   "cell_type": "markdown",
   "id": "7013f045",
   "metadata": {},
   "source": [
    "# 6"
   ]
  },
  {
   "cell_type": "code",
   "execution_count": null,
   "id": "8ef3f730",
   "metadata": {},
   "outputs": [],
   "source": [
    "flight = blanktime.filter(notHeader).map(split)"
   ]
  },
  {
   "cell_type": "code",
   "execution_count": null,
   "id": "cc4f07df",
   "metadata": {},
   "outputs": [],
   "source": [
    "flightPath = flight.map(parse)"
   ]
  },
  {
   "cell_type": "code",
   "execution_count": null,
   "id": "7fe478af",
   "metadata": {},
   "outputs": [],
   "source": [
    "sumCount=flightPath.map(lambda x:x.dep_delay).aggregate((0,0),\n",
    "                                                          (lambda acc,value: (acc[0]+value, acc[1]+1)),\n",
    "                                                          (lambda acc1,acc2:(acc1[0]+acc2[0],acc1[1]+acc2[1])))"
   ]
  },
  {
   "cell_type": "code",
   "execution_count": null,
   "id": "6de8bc10",
   "metadata": {},
   "outputs": [],
   "source": [
    "print \"Average delay is \"+str(sumCount[0]/float(sumCount[1]))"
   ]
  },
  {
   "cell_type": "markdown",
   "id": "076fcc6c",
   "metadata": {},
   "source": [
    "# 7"
   ]
  },
  {
   "cell_type": "code",
   "execution_count": null,
   "id": "0e543e67",
   "metadata": {},
   "outputs": [],
   "source": [
    "sc"
   ]
  },
  {
   "cell_type": "code",
   "execution_count": null,
   "id": "8423b713",
   "metadata": {},
   "outputs": [],
   "source": [
    "flightsPath=\"hdfs:///spark/rdd/flights.csv\""
   ]
  },
  {
   "cell_type": "code",
   "execution_count": null,
   "id": "25b8fb7f",
   "metadata": {},
   "outputs": [],
   "source": [
    "flightsPath = \"hdfs://localhost:9000/spark/rdd/flights.csv\""
   ]
  },
  {
   "cell_type": "code",
   "execution_count": null,
   "id": "b9e83ad5",
   "metadata": {},
   "outputs": [],
   "source": [
    "flightsData = sc.textFile(flightsPath)"
   ]
  },
  {
   "cell_type": "code",
   "execution_count": null,
   "id": "972deb3c",
   "metadata": {},
   "outputs": [],
   "source": [
    "def notHeader(row):\n",
    "           return \"AIRLINE_ID\" not in row"
   ]
  },
  {
   "cell_type": "code",
   "execution_count": null,
   "id": "e8be82d2",
   "metadata": {},
   "outputs": [],
   "source": [
    "import csv\n",
    "       from StringIO import StringIO\n",
    "       def split(line):\n",
    "          reader = csv.reader(StringIO(line))\n",
    "          return reader.next()"
   ]
  },
  {
   "cell_type": "code",
   "execution_count": null,
   "id": "72e65d41",
   "metadata": {},
   "outputs": [],
   "source": [
    "d1 = flightsData.filter(notHeader)"
   ]
  },
  {
   "cell_type": "code",
   "execution_count": null,
   "id": "98c533c2",
   "metadata": {},
   "outputs": [],
   "source": [
    "d2=d1.map(split)"
   ]
  },
  {
   "cell_type": "code",
   "execution_count": null,
   "id": "2e46c371",
   "metadata": {},
   "outputs": [],
   "source": [
    "from datetime import datetime\n",
    "      from pyspark.sql import SQLContext\n",
    "      from pyspark.sql import Row\n",
    "      d3 = d2.map(lambda x:Row(date=datetime.strptime(x[0],\"%Y-%m-%d\"), airline = x[1],flightnum=x[2],origin=x[3], dest=x[4], dep=[5],dep_delay=x [6],arv=x[7],arv_delay=x[8],airtime=x[9],distance=float(x[10]))) "
   ]
  },
  {
   "cell_type": "code",
   "execution_count": null,
   "id": "8f37635c",
   "metadata": {},
   "outputs": [],
   "source": [
    "d3. \\\n",
    "    filter((lambda x:x['dest']==\"LAX\") and (x['date'] == datetime.strptime(\"2016-01-01\", \"%Y-%m-%d\"))). \\\n",
    "    count()"
   ]
  },
  {
   "cell_type": "markdown",
   "id": "f8c0e201",
   "metadata": {},
   "source": [
    "# 8"
   ]
  },
  {
   "cell_type": "code",
   "execution_count": null,
   "id": "ad3f8904",
   "metadata": {},
   "outputs": [],
   "source": [
    "blankData = flightsData.map(lambda x:','.join(x or '00.00' for x in x.split(',')))"
   ]
  },
  {
   "cell_type": "code",
   "execution_count": null,
   "id": "ef0543be",
   "metadata": {},
   "outputs": [],
   "source": [
    "blanktime = blankData.map(lambda x:x.replace(',\"\"' , ',\"0000\"') )"
   ]
  },
  {
   "cell_type": "code",
   "execution_count": null,
   "id": "c6fc5c36",
   "metadata": {},
   "outputs": [],
   "source": [
    "blanktime.take(100)"
   ]
  },
  {
   "cell_type": "code",
   "execution_count": null,
   "id": "17ffcac6",
   "metadata": {},
   "outputs": [],
   "source": [
    "from datetime import datetime\n",
    "      from collections import namedtuple\n",
    "\n",
    "fields = ('date','airline','flightnum','origin','dest','dep','dep_delay','arv','arv_delay','airtime','distance')\n",
    "\n",
    "Flight = namedtuple('Flight',fields, verbose = True)\n",
    "\n",
    "DATE_FMT = \"%Y-%m-%d\"\n",
    "\n",
    "TIME_FMT= \"%H%M\"\n",
    "\n",
    "def parse(row):\n",
    "    row[0] = datetime.strptime(row[0],DATE_FMT).date()\n",
    "    row[5] = datetime.strptime(row[5],TIME_FMT).time()\n",
    "    row[6] = float(row[6])\n",
    "    row[7] = datetime.strptime(row[7],TIME_FMT).time()\n",
    "    row[8] = float(row[8])\n",
    "    row[9] = float(row[9])\n",
    "    row[10] = float(row[10])\n",
    "    return Flight(*row[:11])"
   ]
  },
  {
   "cell_type": "code",
   "execution_count": null,
   "id": "d2195ea5",
   "metadata": {},
   "outputs": [],
   "source": [
    "flight = blanktime.filter(notHeader).map(split)"
   ]
  },
  {
   "cell_type": "code",
   "execution_count": null,
   "id": "30ce71e9",
   "metadata": {},
   "outputs": [],
   "source": [
    "flight.take(100)"
   ]
  }
 ],
 "metadata": {
  "kernelspec": {
   "display_name": "Python 3 (ipykernel)",
   "language": "python",
   "name": "python3"
  },
  "language_info": {
   "codemirror_mode": {
    "name": "ipython",
    "version": 3
   },
   "file_extension": ".py",
   "mimetype": "text/x-python",
   "name": "python",
   "nbconvert_exporter": "python",
   "pygments_lexer": "ipython3",
   "version": "3.9.12"
  }
 },
 "nbformat": 4,
 "nbformat_minor": 5
}
